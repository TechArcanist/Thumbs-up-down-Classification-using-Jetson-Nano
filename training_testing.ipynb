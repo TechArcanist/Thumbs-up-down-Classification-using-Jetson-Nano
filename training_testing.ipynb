{
 "cells": [
  {
   "cell_type": "code",
   "execution_count": 1,
   "metadata": {},
   "outputs": [
    {
     "data": {
      "application/vnd.jupyter.widget-view+json": {
       "model_id": "70ee9330b5c64f6eacba8722acc8f816",
       "version_major": 2,
       "version_minor": 0
      },
      "text/plain": [
       "Image(value=b'')"
      ]
     },
     "metadata": {},
     "output_type": "display_data"
    }
   ],
   "source": [
    "import cv2\n",
    "import ipywidgets as widgets\n",
    "import threading\n",
    "import time\n",
    "from IPython.display import display\n",
    "\n",
    "camera_widget = widgets.Image()#for camera widget\n",
    "\n",
    "camera_index = 0 #according to your camera like if there are two camera both have different index\n",
    "camera = cv2.VideoCapture(camera_index) #connection to specified camera\n",
    "\n",
    "def update_camera_feed(): #for capturing and updating widget\n",
    "    while True:\n",
    "        ret, frame = camera.read() #ret is boolean value which tells weather image is captured or not and frame is the actual image\n",
    "        if not ret:\n",
    "            print(\"Error: Could not read frame.\") #if image is not captured ret gives false indication\n",
    "            break #bye bye update_camera_feed()\n",
    "        \n",
    "        _, jpeg = cv2.imencode('.jpg', frame) #it Convert the frame to JPEG format \n",
    "        camera_widget.value = jpeg.tobytes() #it updates the widget\n",
    "        \n",
    "        time.sleep(0.1)  # Add a delay to avoid overloading the kernel (your choice dpends on your system in mine it was working)\n",
    "\n",
    "\n",
    "camera_thread = threading.Thread(target=update_camera_feed) # Start the camera feed thread it will keep calling this function\n",
    "camera_thread.start()\n",
    "\n",
    "display(camera_widget)# Display the camera feed in JupyterLab\n"
   ]
  },
  {
   "cell_type": "code",
   "execution_count": 3,
   "metadata": {},
   "outputs": [
    {
     "name": "stdout",
     "output_type": "stream",
     "text": [
      "thumbs task with ['thumbs_up', 'thumbs_down'] categories initialized.\n"
     ]
    }
   ],
   "source": [
    "import torchvision.transforms as transforms\n",
    "from src.dataset import ImageClassificationDataset\n",
    "\n",
    "TASK = 'thumbs'  \n",
    "CATEGORIES = ['thumbs_up', 'thumbs_down']\n",
    "DATASETS = ['A', 'B']\n",
    "#this is to transform the image before they are used by the model\n",
    "TRANSFORMS = transforms.Compose([\n",
    "    transforms.ColorJitter(0.2, 0.2, 0.2, 0.2),\n",
    "    transforms.Resize((224, 224)),\n",
    "    transforms.ToTensor(),\n",
    "    transforms.Normalize([0.485, 0.456, 0.406], [0.229, 0.224, 0.225])\n",
    "])\n",
    "\n",
    "datasets = {}\n",
    "for name in DATASETS:\n",
    "    datasets[name] = ImageClassificationDataset(TASK + '_' + name, CATEGORIES, TRANSFORMS) #ImageClassificationDataset categorizes all the data  \n",
    "\n",
    "print(f\"{TASK} task with {CATEGORIES} categories initialized.\")\n"
   ]
  },
  {
   "cell_type": "code",
   "execution_count": 5,
   "metadata": {},
   "outputs": [
    {
     "name": "stdout",
     "output_type": "stream",
     "text": [
      "data_collection_widget initiated\n"
     ]
    }
   ],
   "source": [
    "import ipywidgets as widgets\n",
    "import cv2\n",
    "import numpy as np\n",
    "from IPython.display import display\n",
    "\n",
    "\n",
    "dataset_widget = widgets.Dropdown(options=DATASETS, description='Dataset:')\n",
    "category_widget = widgets.Dropdown(options=datasets[DATASETS[0]].categories, description='Category:')\n",
    "count_widget = widgets.IntText(description='Count:')\n",
    "save_widget = widgets.Button(description='Add')\n",
    "refresh_widget = widgets.Button(description='Refresh Image')\n",
    "\n",
    "\n",
    "def set_dataset(change):\n",
    "    global dataset\n",
    "    dataset = datasets[change['new']]\n",
    "    count_widget.value = dataset.get_count(category_widget.value)\n",
    "\n",
    "\n",
    "def update_counts(change):\n",
    "    count_widget.value = dataset.get_count(change['new'])\n",
    "\n",
    "\n",
    "def save(c):\n",
    "    ret, frame = camera.read()\n",
    "    if ret:\n",
    "        datasets[dataset_widget.value].save_entry(frame, category_widget.value)\n",
    "        count_widget.value = datasets[dataset_widget.value].get_count(category_widget.value)\n",
    "    else:\n",
    "        print(\"Error: No frame captured.\")\n",
    "\n",
    "\n",
    "def update_image(b):\n",
    "    ret, frame = camera.read()\n",
    "    if ret:\n",
    "       \n",
    "        _, jpeg = cv2.imencode('.jpg', frame)\n",
    "        camera_widget.value = jpeg.tobytes()\n",
    "\n",
    "\n",
    "dataset_widget.observe(set_dataset, names='value')\n",
    "category_widget.observe(update_counts, names='value')\n",
    "save_widget.on_click(save)\n",
    "refresh_widget.on_click(update_image)\n",
    "\n",
    "\n",
    "data_collection_widget = widgets.VBox([\n",
    "    camera_widget,\n",
    "    dataset_widget,\n",
    "    category_widget,\n",
    "    count_widget,\n",
    "    save_widget,\n",
    "    refresh_widget\n",
    "])\n",
    "print(\"data_collection_widget initiated\")"
   ]
  },
  {
   "cell_type": "code",
   "execution_count": 7,
   "metadata": {},
   "outputs": [
    {
     "name": "stderr",
     "output_type": "stream",
     "text": [
      "C:\\Users\\LAVITRA\\anaconda3\\Lib\\site-packages\\torchvision\\models\\_utils.py:208: UserWarning: The parameter 'pretrained' is deprecated since 0.13 and may be removed in the future, please use 'weights' instead.\n",
      "  warnings.warn(\n",
      "C:\\Users\\LAVITRA\\anaconda3\\Lib\\site-packages\\torchvision\\models\\_utils.py:223: UserWarning: Arguments other than a weight enum or `None` for 'weights' are deprecated since 0.13 and may be removed in the future. The current behavior is equivalent to passing `weights=ResNet18_Weights.IMAGENET1K_V1`. You can also use `weights=ResNet18_Weights.DEFAULT` to get the most up-to-date weights.\n",
      "  warnings.warn(msg)\n",
      "Downloading: \"https://download.pytorch.org/models/resnet18-f37072fd.pth\" to C:\\Users\\LAVITRA/.cache\\torch\\hub\\checkpoints\\resnet18-f37072fd.pth\n",
      "100%|█████████████████████████████████████████████████████████████████████████████| 44.7M/44.7M [00:01<00:00, 24.0MB/s]\n"
     ]
    },
    {
     "name": "stdout",
     "output_type": "stream",
     "text": [
      "Model configured and model_widget created\n"
     ]
    }
   ],
   "source": [
    "import torch\n",
    "import torchvision\n",
    "import ipywidgets as widgets\n",
    "\n",
    "# Assuming datasets have already been defined and initialized.\n",
    "# For example:\n",
    "# datasets = { 'A': ImageClassificationDataset(...), 'B': ImageClassificationDataset(...) }\n",
    "# Initialize dataset\n",
    "dataset = datasets['A']  # Choose your dataset\n",
    "\n",
    "device = torch.device('cuda' if torch.cuda.is_available() else 'cpu')\n",
    "\n",
    "# ALEXNET\n",
    "# model = torchvision.models.alexnet(pretrained=True)\n",
    "# model.classifier[-1] = torch.nn.Linear(4096, len(dataset.categories))\n",
    "\n",
    "# SQUEEZENET \n",
    "# model = torchvision.models.squeezenet1_1(pretrained=True)\n",
    "# model.classifier[1] = torch.nn.Conv2d(512, len(dataset.categories), kernel_size=1)\n",
    "# model.num_classes = len(dataset.categories)\n",
    "\n",
    "# RESNET 18\n",
    "model = torchvision.models.resnet18(pretrained=True)\n",
    "model.fc = torch.nn.Linear(512, len(dataset.categories))\n",
    "\n",
    "# RESNET 34\n",
    "# model = torchvision.models.resnet34(pretrained=True)\n",
    "# model.fc = torch.nn.Linear(512, len(dataset.categories))\n",
    "\n",
    "model = model.to(device)\n",
    "\n",
    "# Create UI widgets for saving/loading the model\n",
    "model_save_button = widgets.Button(description='Save Model')\n",
    "model_load_button = widgets.Button(description='Load Model')\n",
    "model_path_widget = widgets.Text(description='Model Path', value='my_model.pth')\n",
    "\n",
    "# Define functions for loading and saving the model\n",
    "def load_model(c):\n",
    "    model.load_state_dict(torch.load(model_path_widget.value))\n",
    "    print(\"Model loaded from\", model_path_widget.value)\n",
    "\n",
    "model_load_button.on_click(load_model)\n",
    "\n",
    "def save_model(c):\n",
    "    torch.save(model.state_dict(), model_path_widget.value)\n",
    "    print(\"Model saved to\", model_path_widget.value)\n",
    "\n",
    "model_save_button.on_click(save_model)\n",
    "\n",
    "# Create a widget to display model operations\n",
    "model_widget = widgets.VBox([\n",
    "    model_path_widget,\n",
    "    widgets.HBox([model_load_button, model_save_button])\n",
    "])\n",
    "\n",
    "\n",
    "print(\"Model configured and model_widget created\")\n"
   ]
  },
  {
   "cell_type": "code",
   "execution_count": 9,
   "metadata": {},
   "outputs": [
    {
     "name": "stdout",
     "output_type": "stream",
     "text": [
      "trainer configured and train_eval_widget created\n"
     ]
    }
   ],
   "source": [
    "import ipywidgets as widgets  # Ensure ipywidgets is imported\n",
    "import time\n",
    "import torch\n",
    "import torch.nn.functional as F\n",
    "\n",
    "# Assume model, dataset, and device are defined elsewhere in your code\n",
    "\n",
    "BATCH_SIZE = 8\n",
    "optimizer = torch.optim.Adam(model.parameters())\n",
    "# optimizer = torch.optim.SGD(model.parameters(), lr=1e-3, momentum=0.9)\n",
    "\n",
    "# Create widgets\n",
    "epochs_widget = widgets.IntText(description='epochs', value=1)\n",
    "eval_button = widgets.Button(description='evaluate')\n",
    "train_button = widgets.Button(description='train')\n",
    "loss_widget = widgets.FloatText(description='loss')\n",
    "accuracy_widget = widgets.FloatText(description='accuracy')\n",
    "progress_widget = widgets.FloatProgress(min=0.0, max=1.0, description='progress')\n",
    "\n",
    "def train_eval(is_training):\n",
    "    global BATCH_SIZE, model, dataset, optimizer, eval_button, train_button, accuracy_widget, loss_widget, progress_widget\n",
    "    \n",
    "    try:\n",
    "        train_loader = torch.utils.data.DataLoader(\n",
    "            dataset,\n",
    "            batch_size=BATCH_SIZE,\n",
    "            shuffle=True\n",
    "        )\n",
    "\n",
    "        train_button.disabled = True\n",
    "        eval_button.disabled = True\n",
    "        time.sleep(1)\n",
    "\n",
    "        model.train() if is_training else model.eval()\n",
    "        \n",
    "        while epochs_widget.value > 0:\n",
    "            i = 0\n",
    "            sum_loss = 0.0\n",
    "            error_count = 0.0\n",
    "            \n",
    "            for images, labels in iter(train_loader):\n",
    "                # Send data to device\n",
    "                images = images.to(device)\n",
    "                labels = labels.to(device)\n",
    "\n",
    "                if is_training:\n",
    "                    optimizer.zero_grad()\n",
    "\n",
    "                # Execute model to get outputs\n",
    "                outputs = model(images)\n",
    "\n",
    "                # Compute loss\n",
    "                loss = F.cross_entropy(outputs, labels)\n",
    "\n",
    "                if is_training:\n",
    "                    loss.backward()\n",
    "                    optimizer.step()\n",
    "\n",
    "                # Increment progress\n",
    "                error_count += len(torch.nonzero(outputs.argmax(1) - labels).flatten())\n",
    "                count = len(labels.flatten())\n",
    "                i += count\n",
    "                sum_loss += float(loss)\n",
    "                progress_widget.value = i / len(dataset)\n",
    "                loss_widget.value = sum_loss / i\n",
    "                accuracy_widget.value = 1.0 - error_count / i\n",
    "                \n",
    "            if is_training:\n",
    "                epochs_widget.value -= 1\n",
    "            else:\n",
    "                break\n",
    "    except Exception as e:\n",
    "        print(f\"An error occurred: {e}\")\n",
    "\n",
    "    model.eval()\n",
    "    train_button.disabled = False\n",
    "    eval_button.disabled = False\n",
    "\n",
    "train_button.on_click(lambda c: train_eval(is_training=True))\n",
    "eval_button.on_click(lambda c: train_eval(is_training=False))\n",
    "\n",
    "train_eval_widget = widgets.VBox([\n",
    "    epochs_widget,\n",
    "    progress_widget,\n",
    "    loss_widget,\n",
    "    accuracy_widget,\n",
    "    widgets.HBox([train_button, eval_button])\n",
    "])\n",
    "\n",
    "# display(train_eval_widget)\n",
    "print(\"trainer configured and train_eval_widget created\")\n"
   ]
  },
  {
   "cell_type": "code",
   "execution_count": 11,
   "metadata": {},
   "outputs": [
    {
     "data": {
      "application/vnd.jupyter.widget-view+json": {
       "model_id": "db574b6266434acbbe5643486e5013bb",
       "version_major": 2,
       "version_minor": 0
      },
      "text/plain": [
       "VBox(children=(HBox(children=(VBox(children=(Image(value=b'\\xff\\xd8\\xff\\xe0\\x00\\x10JFIF\\x00\\x01\\x01\\x00\\x00\\x0…"
      ]
     },
     "metadata": {},
     "output_type": "display_data"
    }
   ],
   "source": [
    "import ipywidgets as widgets\n",
    "\n",
    "# Define your previously created widgets here\n",
    "\n",
    "data_live_box = widgets.HBox([data_collection_widget])\n",
    "training_box = widgets.VBox([train_eval_widget, model_widget])\n",
    "\n",
    "all_widget = widgets.VBox([data_live_box, training_box])\n",
    "\n",
    "display(all_widget)\n"
   ]
  }
 ],
 "metadata": {
  "kernelspec": {
   "display_name": "Python 3 (ipykernel)",
   "language": "python",
   "name": "python3"
  },
  "language_info": {
   "codemirror_mode": {
    "name": "ipython",
    "version": 3
   },
   "file_extension": ".py",
   "mimetype": "text/x-python",
   "name": "python",
   "nbconvert_exporter": "python",
   "pygments_lexer": "ipython3",
   "version": "3.12.4"
  }
 },
 "nbformat": 4,
 "nbformat_minor": 4
}
